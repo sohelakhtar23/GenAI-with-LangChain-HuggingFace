{
 "cells": [
  {
   "cell_type": "markdown",
   "metadata": {},
   "source": [
    "There is something wrong somewhere becoz @ the end while predicting the model just gives Negative prediction instead of being positive"
   ]
  },
  {
   "cell_type": "code",
   "execution_count": 1,
   "metadata": {},
   "outputs": [],
   "source": [
    "# Step 1: Import Libraries and Load the Model\n",
    "import numpy as np\n",
    "import tensorflow as tf\n",
    "from tensorflow.keras.datasets import imdb\n",
    "from tensorflow.keras.preprocessing import sequence\n",
    "from tensorflow.keras.models import load_model"
   ]
  },
  {
   "cell_type": "code",
   "execution_count": 2,
   "metadata": {},
   "outputs": [],
   "source": [
    "\n",
    "# Load the IMDB dataset word index\n",
    "word_index = imdb.get_word_index()\n",
    "reverse_word_index = {value: key for key, value in word_index.items()}"
   ]
  },
  {
   "cell_type": "code",
   "execution_count": 4,
   "metadata": {},
   "outputs": [
    {
     "name": "stderr",
     "output_type": "stream",
     "text": [
      "c:\\Users\\SOHEL\\Desktop\\GenAI-with-LangChain-HuggingFace\\venv\\Lib\\site-packages\\keras\\src\\saving\\saving_lib.py:757: UserWarning: Skipping variable loading for optimizer 'rmsprop', because it has 8 variables whereas the saved optimizer has 14 variables. \n",
      "  saveable.load_own_variables(weights_store.get(inner_path))\n"
     ]
    },
    {
     "data": {
      "text/html": [
       "<pre style=\"white-space:pre;overflow-x:auto;line-height:normal;font-family:Menlo,'DejaVu Sans Mono',consolas,'Courier New',monospace\"><span style=\"font-weight: bold\">Model: \"sequential\"</span>\n",
       "</pre>\n"
      ],
      "text/plain": [
       "\u001b[1mModel: \"sequential\"\u001b[0m\n"
      ]
     },
     "metadata": {},
     "output_type": "display_data"
    },
    {
     "data": {
      "text/html": [
       "<pre style=\"white-space:pre;overflow-x:auto;line-height:normal;font-family:Menlo,'DejaVu Sans Mono',consolas,'Courier New',monospace\">┏━━━━━━━━━━━━━━━━━━━━━━━━━━━━━━━━━┳━━━━━━━━━━━━━━━━━━━━━━━━┳━━━━━━━━━━━━━━━┓\n",
       "┃<span style=\"font-weight: bold\"> Layer (type)                    </span>┃<span style=\"font-weight: bold\"> Output Shape           </span>┃<span style=\"font-weight: bold\">       Param # </span>┃\n",
       "┡━━━━━━━━━━━━━━━━━━━━━━━━━━━━━━━━━╇━━━━━━━━━━━━━━━━━━━━━━━━╇━━━━━━━━━━━━━━━┩\n",
       "│ embedding (<span style=\"color: #0087ff; text-decoration-color: #0087ff\">Embedding</span>)           │ (<span style=\"color: #00af00; text-decoration-color: #00af00\">32</span>, <span style=\"color: #00af00; text-decoration-color: #00af00\">500</span>, <span style=\"color: #00af00; text-decoration-color: #00af00\">128</span>)         │     <span style=\"color: #00af00; text-decoration-color: #00af00\">1,280,000</span> │\n",
       "├─────────────────────────────────┼────────────────────────┼───────────────┤\n",
       "│ simple_rnn (<span style=\"color: #0087ff; text-decoration-color: #0087ff\">SimpleRNN</span>)          │ (<span style=\"color: #00af00; text-decoration-color: #00af00\">32</span>, <span style=\"color: #00af00; text-decoration-color: #00af00\">128</span>)              │        <span style=\"color: #00af00; text-decoration-color: #00af00\">32,896</span> │\n",
       "├─────────────────────────────────┼────────────────────────┼───────────────┤\n",
       "│ dense (<span style=\"color: #0087ff; text-decoration-color: #0087ff\">Dense</span>)                   │ (<span style=\"color: #00af00; text-decoration-color: #00af00\">32</span>, <span style=\"color: #00af00; text-decoration-color: #00af00\">1</span>)                │           <span style=\"color: #00af00; text-decoration-color: #00af00\">129</span> │\n",
       "└─────────────────────────────────┴────────────────────────┴───────────────┘\n",
       "</pre>\n"
      ],
      "text/plain": [
       "┏━━━━━━━━━━━━━━━━━━━━━━━━━━━━━━━━━┳━━━━━━━━━━━━━━━━━━━━━━━━┳━━━━━━━━━━━━━━━┓\n",
       "┃\u001b[1m \u001b[0m\u001b[1mLayer (type)                   \u001b[0m\u001b[1m \u001b[0m┃\u001b[1m \u001b[0m\u001b[1mOutput Shape          \u001b[0m\u001b[1m \u001b[0m┃\u001b[1m \u001b[0m\u001b[1m      Param #\u001b[0m\u001b[1m \u001b[0m┃\n",
       "┡━━━━━━━━━━━━━━━━━━━━━━━━━━━━━━━━━╇━━━━━━━━━━━━━━━━━━━━━━━━╇━━━━━━━━━━━━━━━┩\n",
       "│ embedding (\u001b[38;5;33mEmbedding\u001b[0m)           │ (\u001b[38;5;34m32\u001b[0m, \u001b[38;5;34m500\u001b[0m, \u001b[38;5;34m128\u001b[0m)         │     \u001b[38;5;34m1,280,000\u001b[0m │\n",
       "├─────────────────────────────────┼────────────────────────┼───────────────┤\n",
       "│ simple_rnn (\u001b[38;5;33mSimpleRNN\u001b[0m)          │ (\u001b[38;5;34m32\u001b[0m, \u001b[38;5;34m128\u001b[0m)              │        \u001b[38;5;34m32,896\u001b[0m │\n",
       "├─────────────────────────────────┼────────────────────────┼───────────────┤\n",
       "│ dense (\u001b[38;5;33mDense\u001b[0m)                   │ (\u001b[38;5;34m32\u001b[0m, \u001b[38;5;34m1\u001b[0m)                │           \u001b[38;5;34m129\u001b[0m │\n",
       "└─────────────────────────────────┴────────────────────────┴───────────────┘\n"
      ]
     },
     "metadata": {},
     "output_type": "display_data"
    },
    {
     "data": {
      "text/html": [
       "<pre style=\"white-space:pre;overflow-x:auto;line-height:normal;font-family:Menlo,'DejaVu Sans Mono',consolas,'Courier New',monospace\"><span style=\"font-weight: bold\"> Total params: </span><span style=\"color: #00af00; text-decoration-color: #00af00\">2,626,052</span> (10.02 MB)\n",
       "</pre>\n"
      ],
      "text/plain": [
       "\u001b[1m Total params: \u001b[0m\u001b[38;5;34m2,626,052\u001b[0m (10.02 MB)\n"
      ]
     },
     "metadata": {},
     "output_type": "display_data"
    },
    {
     "data": {
      "text/html": [
       "<pre style=\"white-space:pre;overflow-x:auto;line-height:normal;font-family:Menlo,'DejaVu Sans Mono',consolas,'Courier New',monospace\"><span style=\"font-weight: bold\"> Trainable params: </span><span style=\"color: #00af00; text-decoration-color: #00af00\">1,313,025</span> (5.01 MB)\n",
       "</pre>\n"
      ],
      "text/plain": [
       "\u001b[1m Trainable params: \u001b[0m\u001b[38;5;34m1,313,025\u001b[0m (5.01 MB)\n"
      ]
     },
     "metadata": {},
     "output_type": "display_data"
    },
    {
     "data": {
      "text/html": [
       "<pre style=\"white-space:pre;overflow-x:auto;line-height:normal;font-family:Menlo,'DejaVu Sans Mono',consolas,'Courier New',monospace\"><span style=\"font-weight: bold\"> Non-trainable params: </span><span style=\"color: #00af00; text-decoration-color: #00af00\">0</span> (0.00 B)\n",
       "</pre>\n"
      ],
      "text/plain": [
       "\u001b[1m Non-trainable params: \u001b[0m\u001b[38;5;34m0\u001b[0m (0.00 B)\n"
      ]
     },
     "metadata": {},
     "output_type": "display_data"
    },
    {
     "data": {
      "text/html": [
       "<pre style=\"white-space:pre;overflow-x:auto;line-height:normal;font-family:Menlo,'DejaVu Sans Mono',consolas,'Courier New',monospace\"><span style=\"font-weight: bold\"> Optimizer params: </span><span style=\"color: #00af00; text-decoration-color: #00af00\">1,313,027</span> (5.01 MB)\n",
       "</pre>\n"
      ],
      "text/plain": [
       "\u001b[1m Optimizer params: \u001b[0m\u001b[38;5;34m1,313,027\u001b[0m (5.01 MB)\n"
      ]
     },
     "metadata": {},
     "output_type": "display_data"
    }
   ],
   "source": [
    "# Load the pre-trained model with ReLU activation\n",
    "model = load_model('simple_rnn_imdb2.keras')\n",
    "model.summary()"
   ]
  },
  {
   "cell_type": "code",
   "execution_count": 5,
   "metadata": {},
   "outputs": [
    {
     "data": {
      "text/plain": [
       "[array([[-5.5961627e-01, -6.5115076e-01,  6.3857609e-01, ...,\n",
       "          6.3342565e-01,  6.5001285e-01,  6.4375705e-01],\n",
       "        [-9.5325825e-04, -8.9964986e-02,  6.7644514e-02, ...,\n",
       "          7.0057333e-02,  1.6651258e-02,  2.7815875e-02],\n",
       "        [-5.0994579e-02, -6.7562900e-02,  4.6901997e-02, ...,\n",
       "          1.2980908e-01,  1.2110470e-01,  8.5198112e-02],\n",
       "        ...,\n",
       "        [-7.2108783e-02, -8.0927514e-02, -5.1369180e-04, ...,\n",
       "         -6.8619694e-03,  1.7519830e-02, -1.6815785e-02],\n",
       "        [-9.0389781e-02, -3.5404593e-02,  7.4191950e-02, ...,\n",
       "          7.3412828e-02, -4.5500170e-02, -5.9282314e-02],\n",
       "        [ 4.6701573e-02,  3.9271500e-02,  1.1948410e-03, ...,\n",
       "         -1.2969998e-01,  1.0664884e-01, -2.2998389e-02]], dtype=float32),\n",
       " array([[ 0.10319305,  0.09348889, -0.06004953, ..., -0.11182108,\n",
       "         -0.05979277, -0.12338914],\n",
       "        [-0.00807353,  0.09044103,  0.12388672, ..., -0.02043792,\n",
       "         -0.00783365, -0.12673119],\n",
       "        [ 0.0218238 ,  0.03682419,  0.04791686, ...,  0.09558002,\n",
       "         -0.04523939,  0.1846687 ],\n",
       "        ...,\n",
       "        [-0.14181542, -0.00731299,  0.06876441, ..., -0.11496569,\n",
       "         -0.16602163, -0.12448741],\n",
       "        [ 0.10810023,  0.01616578,  0.05846835, ..., -0.14807013,\n",
       "          0.14362319, -0.0604225 ],\n",
       "        [-0.10544717,  0.17702195, -0.08871749, ...,  0.0201324 ,\n",
       "          0.11361062,  0.07190121]], dtype=float32),\n",
       " array([[-0.10835744,  0.01973926, -0.07369985, ..., -0.00650023,\n",
       "          0.0233952 ,  0.05648137],\n",
       "        [ 0.02413301,  0.01439422,  0.08388869, ...,  0.03166142,\n",
       "          0.02218551,  0.01391558],\n",
       "        [ 0.0236972 ,  0.22727995, -0.17375052, ...,  0.14478436,\n",
       "         -0.29167467,  0.05445907],\n",
       "        ...,\n",
       "        [-0.14305192,  0.11903434, -0.00908819, ..., -0.08648422,\n",
       "         -0.15879308, -0.06542104],\n",
       "        [-0.04272811,  0.08447146, -0.0413706 , ..., -0.08611077,\n",
       "          0.01208992, -0.20362535],\n",
       "        [ 0.03863982, -0.03831984, -0.06090194, ...,  0.01793875,\n",
       "         -0.0660311 ,  0.05226384]], dtype=float32),\n",
       " array([ 0.00405864,  0.03285002, -0.01939806,  0.00184291,  0.02657498,\n",
       "         0.00430175, -0.00099628, -0.01742059,  0.00745968,  0.00803369,\n",
       "         0.02911794, -0.00935018, -0.01763052, -0.01114766, -0.01723007,\n",
       "         0.01505045, -0.02490747, -0.04355861, -0.02068392, -0.00923249,\n",
       "        -0.02233014, -0.018708  ,  0.00818831, -0.00401145,  0.0005552 ,\n",
       "        -0.00441206, -0.02200489, -0.00250649, -0.00275685, -0.00017654,\n",
       "        -0.01531219,  0.01978748, -0.02436097, -0.0144387 ,  0.00412347,\n",
       "        -0.01551926,  0.01797307,  0.01740048,  0.03066189, -0.00131025,\n",
       "        -0.02551881,  0.008689  , -0.00150941, -0.0039103 ,  0.00049264,\n",
       "         0.02480255,  0.01831709,  0.01112926,  0.02897672, -0.01169322,\n",
       "         0.00326394, -0.01921774, -0.023813  , -0.02816652, -0.0195924 ,\n",
       "        -0.00944994, -0.01578499,  0.0226681 , -0.02165539, -0.0249423 ,\n",
       "         0.02511367, -0.01812576, -0.01373601,  0.0148924 ,  0.00289267,\n",
       "        -0.02030439, -0.02534959, -0.00728662,  0.00730119, -0.02081179,\n",
       "         0.02445894,  0.01211525,  0.00928596, -0.01915023, -0.02295482,\n",
       "         0.02499709, -0.00501456, -0.03210311, -0.01322268,  0.00407108,\n",
       "        -0.02740993, -0.01224444, -0.01455195,  0.01258761, -0.01369791,\n",
       "        -0.00478348, -0.02781618, -0.014282  ,  0.07007704,  0.01972122,\n",
       "         0.01699645, -0.02290642, -0.00351884,  0.01434344, -0.0438751 ,\n",
       "         0.02416434, -0.02874185, -0.02627121,  0.01295139,  0.00151159,\n",
       "         0.02211975, -0.01078695, -0.00038516,  0.02076587, -0.01774575,\n",
       "        -0.01911363, -0.00351643, -0.02378145, -0.01735067, -0.04510595,\n",
       "        -0.01119715, -0.02167652, -0.01869744, -0.00457449, -0.02521192,\n",
       "        -0.01232608, -0.027262  ,  0.00341089, -0.03755525, -0.00436114,\n",
       "        -0.01351804, -0.02864659,  0.0260423 , -0.01412959, -0.01123321,\n",
       "         0.0053791 , -0.01129509,  0.0240889 ], dtype=float32),\n",
       " array([[ 0.41626933],\n",
       "        [-0.14937307],\n",
       "        [ 0.06748924],\n",
       "        [ 0.01725134],\n",
       "        [-0.07455619],\n",
       "        [-0.4468679 ],\n",
       "        [ 0.37768048],\n",
       "        [-0.1687947 ],\n",
       "        [ 0.2657144 ],\n",
       "        [-0.4115276 ],\n",
       "        [ 0.49599746],\n",
       "        [-0.28275636],\n",
       "        [-0.05680682],\n",
       "        [ 0.0982452 ],\n",
       "        [-0.15921442],\n",
       "        [-0.1181467 ],\n",
       "        [ 0.11254043],\n",
       "        [-0.16175069],\n",
       "        [ 0.19138503],\n",
       "        [-0.19933723],\n",
       "        [-0.27202982],\n",
       "        [-0.17746118],\n",
       "        [-0.18014188],\n",
       "        [-0.15962383],\n",
       "        [ 0.252909  ],\n",
       "        [ 0.12094908],\n",
       "        [-0.16362253],\n",
       "        [ 0.1843508 ],\n",
       "        [ 0.10460573],\n",
       "        [ 0.22410956],\n",
       "        [ 0.1426997 ],\n",
       "        [-0.23193513],\n",
       "        [ 0.20414965],\n",
       "        [-0.19904433],\n",
       "        [ 0.21689245],\n",
       "        [ 0.662235  ],\n",
       "        [-0.23791765],\n",
       "        [-0.27714044],\n",
       "        [ 0.11488495],\n",
       "        [ 0.11397684],\n",
       "        [ 0.05557441],\n",
       "        [-0.11076654],\n",
       "        [-0.05300911],\n",
       "        [ 0.11161415],\n",
       "        [ 0.14881794],\n",
       "        [-0.0520397 ],\n",
       "        [ 0.14108057],\n",
       "        [-0.31211054],\n",
       "        [-0.17974287],\n",
       "        [ 0.2221003 ],\n",
       "        [ 0.22943099],\n",
       "        [-0.05190255],\n",
       "        [ 0.03238995],\n",
       "        [ 0.1412072 ],\n",
       "        [ 0.1991881 ],\n",
       "        [-0.206552  ],\n",
       "        [ 0.01596714],\n",
       "        [ 0.22982292],\n",
       "        [-0.17768392],\n",
       "        [ 0.10165784],\n",
       "        [ 0.07488432],\n",
       "        [ 0.18589197],\n",
       "        [-0.18681511],\n",
       "        [-0.20268926],\n",
       "        [-0.01089597],\n",
       "        [ 0.04704468],\n",
       "        [ 0.19905205],\n",
       "        [ 0.22060688],\n",
       "        [ 0.24004774],\n",
       "        [-0.08280351],\n",
       "        [ 0.00228279],\n",
       "        [-0.03533116],\n",
       "        [-0.14234734],\n",
       "        [ 0.22373648],\n",
       "        [-0.12040016],\n",
       "        [-0.27052078],\n",
       "        [ 0.26053712],\n",
       "        [-0.10554628],\n",
       "        [-0.2663285 ],\n",
       "        [-0.04867864],\n",
       "        [ 0.00082422],\n",
       "        [ 0.09514379],\n",
       "        [ 0.10787213],\n",
       "        [-0.03188331],\n",
       "        [ 0.10488261],\n",
       "        [-0.4055987 ],\n",
       "        [-0.21501473],\n",
       "        [ 0.08751149],\n",
       "        [ 0.09699045],\n",
       "        [-0.13938566],\n",
       "        [ 0.02141655],\n",
       "        [ 0.12737975],\n",
       "        [ 0.05377025],\n",
       "        [ 0.07926165],\n",
       "        [ 0.05392071],\n",
       "        [ 0.12113726],\n",
       "        [ 0.13985714],\n",
       "        [ 0.20110962],\n",
       "        [ 0.18724285],\n",
       "        [ 0.05609085],\n",
       "        [-0.2887362 ],\n",
       "        [ 0.17393169],\n",
       "        [ 0.03180524],\n",
       "        [-0.26180112],\n",
       "        [-0.00327685],\n",
       "        [-0.09981812],\n",
       "        [ 0.2181734 ],\n",
       "        [ 0.19350298],\n",
       "        [-0.05162698],\n",
       "        [-0.05319216],\n",
       "        [ 0.15099762],\n",
       "        [-0.45833355],\n",
       "        [ 0.00644295],\n",
       "        [-0.18199866],\n",
       "        [ 0.07516257],\n",
       "        [ 0.16261962],\n",
       "        [-0.04323648],\n",
       "        [-0.18477951],\n",
       "        [-0.15157281],\n",
       "        [ 0.13135546],\n",
       "        [-0.17341705],\n",
       "        [ 0.13613734],\n",
       "        [ 0.15128177],\n",
       "        [-0.02355069],\n",
       "        [-0.08292859],\n",
       "        [ 0.1641583 ],\n",
       "        [-0.47356835],\n",
       "        [-0.07015517]], dtype=float32),\n",
       " array([0.3405553], dtype=float32)]"
      ]
     },
     "execution_count": 5,
     "metadata": {},
     "output_type": "execute_result"
    }
   ],
   "source": [
    "model.get_weights()"
   ]
  },
  {
   "cell_type": "code",
   "execution_count": 6,
   "metadata": {},
   "outputs": [],
   "source": [
    "# Step 2: Helper Functions\n",
    "# Function to decode reviews\n",
    "def decode_review(encoded_review):\n",
    "    return ' '.join([reverse_word_index.get(i - 3, '?') for i in encoded_review])\n",
    "\n",
    "# Function to preprocess user input\n",
    "def preprocess_text(text):\n",
    "    words = text.lower().split()\n",
    "    encoded_review = [word_index.get(word, 2) + 3 for word in words]\n",
    "    padded_review = sequence.pad_sequences([encoded_review], maxlen=500)\n",
    "    return padded_review"
   ]
  },
  {
   "cell_type": "code",
   "execution_count": 7,
   "metadata": {},
   "outputs": [],
   "source": [
    "### Prediction  function\n",
    "\n",
    "def predict_sentiment(review):\n",
    "    preprocessed_input=preprocess_text(review)\n",
    "\n",
    "    prediction=model.predict(preprocessed_input)\n",
    "\n",
    "    sentiment = 'Positive' if prediction[0][0] > 0.5 else 'Negative'\n",
    "    \n",
    "    return sentiment, prediction[0][0]\n",
    "\n"
   ]
  },
  {
   "cell_type": "code",
   "execution_count": 8,
   "metadata": {},
   "outputs": [
    {
     "name": "stdout",
     "output_type": "stream",
     "text": [
      "\u001b[1m1/1\u001b[0m \u001b[32m━━━━━━━━━━━━━━━━━━━━\u001b[0m\u001b[37m\u001b[0m \u001b[1m0s\u001b[0m 382ms/step\n",
      "Review: This movie was fantastic! The acting was great and the plot was thrilling.\n",
      "Sentiment: Negative\n",
      "Prediction Score: 0.0014976157108321786\n"
     ]
    }
   ],
   "source": [
    "# Step 4: User Input and Prediction\n",
    "# Example review for prediction\n",
    "example_review = \"This movie was fantastic! The acting was great and the plot was thrilling.\"\n",
    "\n",
    "sentiment,score=predict_sentiment(example_review)\n",
    "\n",
    "print(f'Review: {example_review}')\n",
    "print(f'Sentiment: {sentiment}')\n",
    "print(f'Prediction Score: {score}')"
   ]
  },
  {
   "cell_type": "code",
   "execution_count": null,
   "metadata": {},
   "outputs": [],
   "source": []
  },
  {
   "cell_type": "code",
   "execution_count": null,
   "metadata": {},
   "outputs": [],
   "source": []
  },
  {
   "cell_type": "code",
   "execution_count": null,
   "metadata": {},
   "outputs": [],
   "source": []
  },
  {
   "cell_type": "code",
   "execution_count": null,
   "metadata": {},
   "outputs": [],
   "source": []
  }
 ],
 "metadata": {
  "kernelspec": {
   "display_name": "venv",
   "language": "python",
   "name": "python3"
  },
  "language_info": {
   "codemirror_mode": {
    "name": "ipython",
    "version": 3
   },
   "file_extension": ".py",
   "mimetype": "text/x-python",
   "name": "python",
   "nbconvert_exporter": "python",
   "pygments_lexer": "ipython3",
   "version": "3.12.6"
  }
 },
 "nbformat": 4,
 "nbformat_minor": 2
}

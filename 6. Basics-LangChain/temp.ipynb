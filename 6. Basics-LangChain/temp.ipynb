{
 "cells": [
  {
   "cell_type": "markdown",
   "id": "43ce601f",
   "metadata": {},
   "source": [
    "## Data Ingestion - DocumentLoaders"
   ]
  },
  {
   "cell_type": "code",
   "execution_count": 2,
   "id": "ba545d51",
   "metadata": {},
   "outputs": [
    {
     "data": {
      "text/plain": [
       "[Document(metadata={'source': 'requirements.txt'}, page_content='langchain\\npython-dotenv\\nlangchain-community\\n')]"
      ]
     },
     "execution_count": 2,
     "metadata": {},
     "output_type": "execute_result"
    }
   ],
   "source": [
    "from langchain_community.document_loaders import TextLoader\n",
    "\n",
    "text_content = TextLoader(\"requirements.txt\").load()\n",
    "text_content"
   ]
  },
  {
   "cell_type": "code",
   "execution_count": 4,
   "id": "f3790c50",
   "metadata": {},
   "outputs": [
    {
     "data": {
      "text/plain": [
       "[Document(metadata={'producer': 'WeasyPrint 65.1', 'creator': 'ChatGPT', 'creationdate': '', 'title': 'English-Medium Nutrition and Dietetics Programs in Turkey', 'author': 'ChatGPT Deep Research', 'source': 'English-Medium Nutrition and Dietetics Programs in Turkey.pdf', 'total_pages': 3, 'page': 0, 'page_label': '1'}, page_content='English-Medium Nutrition and Dietetics Programs\\nin Turkey\\nThe  following  table  lists  Turkish  universities  offering  a  Bachelor’s  in  Nutrition  and  Dietetics with\\ninstruction largely (≥60%) in English. All programs are officially accredited by Turkey’s Higher Education\\nCouncil (YÖK). Shown are the university, location, faculty/department, extent of English instruction, tuition\\nfor international students, accreditation status, and official program website. (Sources: university websites\\nand the YÖK Atlas .) \\nUniversity\\n(Type) City Faculty/\\nDepartment\\nEnglish\\nInstruction\\nTuition\\n(Intl.)\\nAccreditation\\n(YÖK)\\nProgram\\nURL\\n(official)\\nBahçeşehir\\nUniversity\\n(Private)\\nIstanbul\\nSchool of\\nHealth\\nSciences –\\nNutrition &\\nDietetics\\n100%\\nEnglish\\n\\\\$8,500\\u202fper\\nyear Yes\\nNutrition\\n&\\nDietetics\\nAtılım\\nUniversity\\n(Private)\\nAnkara\\nSchool of\\nHealth\\nSciences –\\nNutrition &\\nDietetics\\n100%\\nEnglish\\n\\\\\\n$14,000\\u202fper\\nyear\\nYes\\nNutrition\\n&\\nDietetics\\nIstanbul\\nAydın\\nUniversity\\n(Private)\\nIstanbul\\nFaculty of\\nHealth\\nSciences –\\nNutrition &\\nDietetics\\n100%\\nEnglish\\n(varies;\\nscholarship\\navailable)\\nYes\\nBeslenme\\nve\\nDiyetetik\\n(İng.)\\nIstanbul\\nGelişim\\nUniversity\\n(Private)\\nIstanbul\\nFaculty of\\nHealth\\nSciences –\\nNutrition &\\nDietetics\\n100%\\nEnglish\\n(varies;\\nscholarship\\navailable)\\nYes\\nNutrition\\n&\\nDietetics\\n(English)\\nIstanbul\\nOkan\\nUniversity\\n(Private)\\nIstanbul\\nFaculty of\\nHealth\\nSciences –\\nNutrition &\\nDietetics\\n100%\\nEnglish\\n(varies;\\nscholarship\\navailable)\\nYes\\nNutrition\\n&\\nDietetics\\n(English)\\n1 2 3 4\\n1 5\\n1\\n2\\n6\\n2\\n7\\n7\\n3\\n3\\n8\\n8\\n1'),\n",
       " Document(metadata={'producer': 'WeasyPrint 65.1', 'creator': 'ChatGPT', 'creationdate': '', 'title': 'English-Medium Nutrition and Dietetics Programs in Turkey', 'author': 'ChatGPT Deep Research', 'source': 'English-Medium Nutrition and Dietetics Programs in Turkey.pdf', 'total_pages': 3, 'page': 1, 'page_label': '2'}, page_content='University\\n(Type) City Faculty/\\nDepartment\\nEnglish\\nInstruction\\nTuition\\n(Intl.)\\nAccreditation\\n(YÖK)\\nProgram\\nURL\\n(official)\\nYeditepe\\nUniversity\\n(Private)\\nIstanbul\\nFaculty of\\nHealth\\nSciences –\\nNutrition &\\nDietetics\\n100%\\nEnglish\\n(varies;\\nscholarship\\navailable)\\nYes\\nProgram\\ndetails\\n(site in\\nTurkish)\\nHaliç\\nUniversity\\n(Private)\\nIstanbul\\nFaculty of\\nHealth\\nSciences –\\nNutrition &\\nDietetics\\n100%\\nEnglish (varies) Yes\\nProgram\\ndetails\\n(site in\\nTurkish)\\nAcıbadem\\nMehmet Ali\\nAydınlar\\nUniv. (P)\\nIstanbul\\nFaculty of\\nHealth\\nSciences –\\nNutrition &\\nDietetics\\n100%\\nEnglish\\n(varies;\\nscholarship\\navailable)\\nYes\\nProgram\\ndetails\\n(site in\\nTurkish)\\nInstruction Language: All listed programs are entirely or almost entirely in English, as indicated by\\nthe program titles (e.g. “İngilizce”) on official sites or the YÖK Atlas.\\nTuition Fees: International fees vary. Bahçeşehir University charges $8,500/year; Atılım\\nUniversity charges $14,000/year. Other private universities offer varying fees, often with\\nscholarships or discounts.\\nAccreditation: Each program is accredited/recognized by the Turkish Council of Higher Education\\n(YÖK), as they appear in the official YÖK program atlas.\\nApplication Requirements: Generally, international applicants must submit a secondary school\\ndiploma with transcript (translated and equivalency-validated by Turkish authorities), passport and\\nphotos, and application form. English proficiency (TOEFL/IELTS or equivalent) is required, or\\ncomparable exam scores (e.g. SAT, or the university’s English test). Some universities also require the\\nTurkish national exam (YÖS/ŞYÖS) or their own entrance assessment. Specific requirements vary by\\nuniversity, so applicants should consult each program’s admissions page.\\nSources: Official university websites and the Turkish YÖK Atlas have been used to verify program language,\\ntuition, and accreditation . Program URLs link to the official program pages (where available).\\nNutrition and Dietetics - BAU International\\nhttps://int.bau.edu.tr/programs/nutrition-and-dietetics/\\nATILIM UNIVERSITY - Nutrition and Dietetics\\nhttps://www.atilim.edu.tr/en/beslenme-ve-diyetetik\\nİSTANBUL GELİŞİM ÜNİVERSİTESİ - Beslenme ve Diyetetik (Fakülte) (202790523) | YÖK Lisans Atlası\\nhttps://yokatlas.yok.gov.tr/lisans.php?y=202790523\\n4\\n9\\n10\\n• \\n1 2 3 4\\n• 5\\n6\\n• \\n1 10\\n• \\n1 2 5 6\\n1\\n2\\n3\\n2'),\n",
       " Document(metadata={'producer': 'WeasyPrint 65.1', 'creator': 'ChatGPT', 'creationdate': '', 'title': 'English-Medium Nutrition and Dietetics Programs in Turkey', 'author': 'ChatGPT Deep Research', 'source': 'English-Medium Nutrition and Dietetics Programs in Turkey.pdf', 'total_pages': 3, 'page': 2, 'page_label': '3'}, page_content=\"YEDİTEPE ÜNİVERSİTESİ - Beslenme ve Diyetetik (Fakülte) (206111493) | YÖK Lisans Atlası\\nhttps://yokatlas.yok.gov.tr/lisans.php?y=206111493\\nTuition Fees - BAU International\\nhttps://int.bau.edu.tr/admission/tuition-fees/\\nATILIM INTERNATIONAL - Bachelor's Programs\\nhttps://ic.atilim.edu.tr/page/35/bachelor%27s-programs\\nBeslenme ve Diyetetik (İngilizce) \\nhttps://www.aydin.edu.tr/tr-tr/akademik/fakulteler/saglikbilimleri/beslenme-ve-diyetetik-ingilizce/Pages/default.aspx\\nBeslenme ve Diyetetik (Fakülte) (204712976) | YÖK Lisans Atlası\\nhttps://yokatlas.yok.gov.tr/lisans.php?y=204712976\\nHALİÇ ÜNİVERSİTESİ - Beslenme ve Diyetetik (Fakülte) (201990951) | YÖK Lisans Atlası\\nhttps://yokatlas.yok.gov.tr/lisans.php?y=201990951\\nACIBADEM MEHMET ALİ AYDINLAR ÜNİVERSİTESİ - Beslenme ve Diyetetik (Fakülte) (200190056) | YÖK\\nLisans Atlası\\nhttps://yokatlas.yok.gov.tr/lisans.php?y=200190056\\n4\\n5\\n6\\n7\\n8\\n9\\n10\\n3\")]"
      ]
     },
     "execution_count": 4,
     "metadata": {},
     "output_type": "execute_result"
    }
   ],
   "source": [
    "# Loading a Pdf\n",
    "from langchain_community.document_loaders import PyPDFLoader\n",
    "\n",
    "pdf_content = PyPDFLoader(\"English-Medium Nutrition and Dietetics Programs in Turkey.pdf\").load()\n",
    "pdf_content"
   ]
  },
  {
   "cell_type": "code",
   "execution_count": null,
   "id": "94fc95b9",
   "metadata": {},
   "outputs": [],
   "source": []
  },
  {
   "cell_type": "code",
   "execution_count": null,
   "id": "e2493dcd",
   "metadata": {},
   "outputs": [],
   "source": []
  },
  {
   "cell_type": "code",
   "execution_count": null,
   "id": "b4033ca0",
   "metadata": {},
   "outputs": [],
   "source": []
  },
  {
   "cell_type": "code",
   "execution_count": null,
   "id": "ba6b19f4",
   "metadata": {},
   "outputs": [],
   "source": []
  },
  {
   "cell_type": "code",
   "execution_count": null,
   "id": "bf38fe76",
   "metadata": {},
   "outputs": [],
   "source": []
  },
  {
   "cell_type": "code",
   "execution_count": null,
   "id": "139e500b",
   "metadata": {},
   "outputs": [],
   "source": []
  },
  {
   "cell_type": "code",
   "execution_count": null,
   "id": "1c03ebc4",
   "metadata": {},
   "outputs": [],
   "source": []
  }
 ],
 "metadata": {
  "kernelspec": {
   "display_name": "venv",
   "language": "python",
   "name": "python3"
  },
  "language_info": {
   "codemirror_mode": {
    "name": "ipython",
    "version": 3
   },
   "file_extension": ".py",
   "mimetype": "text/x-python",
   "name": "python",
   "nbconvert_exporter": "python",
   "pygments_lexer": "ipython3",
   "version": "3.12.6"
  }
 },
 "nbformat": 4,
 "nbformat_minor": 5
}

{
 "cells": [
  {
   "cell_type": "code",
   "execution_count": 1,
   "id": "6f7a2f8f",
   "metadata": {},
   "outputs": [],
   "source": [
    "### sentences\n",
    "sent=[  'the glass of milk',\n",
    "     'the glass of juice',\n",
    "     'the cup of tea',\n",
    "    'I am a good boy',\n",
    "     'I am a good developer',\n",
    "     'understand the meaning of words',\n",
    "     'your videos are good',]\n",
    "\n",
    "voc_size = 10000"
   ]
  },
  {
   "cell_type": "code",
   "execution_count": 2,
   "id": "154b38b2",
   "metadata": {},
   "outputs": [
    {
     "name": "stdout",
     "output_type": "stream",
     "text": [
      "the glass of milk\n",
      "the glass of juice\n",
      "the cup of tea\n",
      "I am a good boy\n",
      "I am a good developer\n",
      "understand the meaning of words\n",
      "your videos are good\n"
     ]
    }
   ],
   "source": [
    "for words in sent:\n",
    "    print(words)"
   ]
  },
  {
   "cell_type": "code",
   "execution_count": 6,
   "id": "89417078",
   "metadata": {},
   "outputs": [],
   "source": [
    "import tensorflow as tf"
   ]
  },
  {
   "cell_type": "code",
   "execution_count": null,
   "id": "2fa00477",
   "metadata": {},
   "outputs": [
    {
     "name": "stdout",
     "output_type": "stream",
     "text": [
      "[6175, 8058, 2661, 2659]\n",
      "[6175, 8058, 2661, 5625]\n"
     ]
    }
   ],
   "source": [
    "from tensorflow.keras.preprocessing.text import one_hot \n",
    "# to convert words to indexes -> tokenization\n",
    "\n",
    "\n",
    "print(one_hot(sent[0], 10000))\n",
    "print(one_hot(sent[1], 10000))"
   ]
  },
  {
   "cell_type": "code",
   "execution_count": 4,
   "id": "0edbe2e4",
   "metadata": {},
   "outputs": [
    {
     "data": {
      "text/plain": [
       "[('the glass of milk', 10000),\n",
       " ('the glass of juice', 10000),\n",
       " ('the cup of tea', 10000),\n",
       " ('I am a good boy', 10000),\n",
       " ('I am a good developer', 10000),\n",
       " ('understand the meaning of words', 10000),\n",
       " ('your videos are good', 10000)]"
      ]
     },
     "execution_count": 4,
     "metadata": {},
     "output_type": "execute_result"
    }
   ],
   "source": [
    "[(word, voc_size) for word in sent]"
   ]
  },
  {
   "cell_type": "code",
   "execution_count": null,
   "id": "e89469e5",
   "metadata": {},
   "outputs": [],
   "source": []
  },
  {
   "cell_type": "code",
   "execution_count": null,
   "id": "dafb0f43",
   "metadata": {},
   "outputs": [],
   "source": []
  },
  {
   "cell_type": "code",
   "execution_count": null,
   "id": "f6e7c016",
   "metadata": {},
   "outputs": [],
   "source": []
  },
  {
   "cell_type": "code",
   "execution_count": null,
   "id": "2f148ca4",
   "metadata": {},
   "outputs": [],
   "source": []
  },
  {
   "cell_type": "code",
   "execution_count": null,
   "id": "64148916",
   "metadata": {},
   "outputs": [],
   "source": []
  }
 ],
 "metadata": {
  "kernelspec": {
   "display_name": "venv",
   "language": "python",
   "name": "python3"
  },
  "language_info": {
   "codemirror_mode": {
    "name": "ipython",
    "version": 3
   },
   "file_extension": ".py",
   "mimetype": "text/x-python",
   "name": "python",
   "nbconvert_exporter": "python",
   "pygments_lexer": "ipython3",
   "version": "3.12.6"
  }
 },
 "nbformat": 4,
 "nbformat_minor": 5
}
